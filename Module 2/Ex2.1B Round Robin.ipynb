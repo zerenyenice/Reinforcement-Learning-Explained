{
  "cells": [
    {
      "metadata": {},
      "cell_type": "markdown",
      "source": "# DAT257x: Reinforcement Learning Explained\n\n## Lab 2: Bandits\n\n### Exercise 2.1B: Round Robin"
    },
    {
      "metadata": {
        "trusted": true
      },
      "cell_type": "code",
      "source": "import numpy as np\nimport sys\n\nif \"../\" not in sys.path:\n    sys.path.append(\"../\") \n\nfrom lib.envs.bandit import BanditEnv\nfrom lib.simulation import Experiment",
      "execution_count": 1,
      "outputs": []
    },
    {
      "metadata": {
        "trusted": true
      },
      "cell_type": "code",
      "source": "#Policy interface\nclass Policy:\n    #num_actions: (int) Number of arms [indexed by 0 ... num_actions-1]\n    def __init__(self, num_actions):\n        self.num_actions = num_actions\n    \n    def act(self):\n        pass\n        \n    def feedback(self, action, reward):\n        pass",
      "execution_count": 2,
      "outputs": []
    },
    {
      "metadata": {
        "trusted": true
      },
      "cell_type": "code",
      "source": "#Greedy policy\nclass Greedy(Policy):\n    def __init__(self, num_actions):\n        Policy.__init__(self, num_actions)\n        self.name = \"Greedy\"\n        self.total_rewards = np.zeros(num_actions, dtype = np.longdouble)\n        self.total_counts = np.zeros(num_actions, dtype = np.longdouble)\n    \n    def act(self):\n        current_averages = np.divide(self.total_rewards, self.total_counts, where = self.total_counts > 0)\n        current_averages[self.total_counts <= 0] = 0.5      #Correctly handles Bernoulli rewards; over-estimates otherwise\n        current_action = np.argmax(current_averages)\n        return current_action\n        \n    def feedback(self, action, reward):\n        self.total_rewards[action] += reward\n        self.total_counts[action] += 1",
      "execution_count": 3,
      "outputs": []
    },
    {
      "metadata": {},
      "cell_type": "markdown",
      "source": "We have seen in the previous exercise that a greedy policy can lock into sub-optimal action. Could it be worse than a simple round-robin selection?"
    },
    {
      "metadata": {},
      "cell_type": "markdown",
      "source": "Let's implement a round robin policy: that is \"pulling\" the arms in round robin fashion. So for example, if you have three arms, the sequence will be arm 1, arm 2, arm 3 and then back to arm 1, and so on, until the trials finishes. "
    },
    {
      "metadata": {},
      "cell_type": "markdown",
      "source": "We have given you some boiler plate code, you only need to modify the part as indicated."
    },
    {
      "metadata": {
        "trusted": true
      },
      "cell_type": "code",
      "source": "class RoundRobin(Policy):\n    def __init__(self, num_actions):\n        Policy.__init__(self, num_actions)\n        self.name = \"Round Robin\"\n        self.total_rewards = np.zeros(num_actions, dtype = np.longdouble)\n        self.total_counts = np.zeros(num_actions, dtype = np.longdouble)\n        self.previous_action = None #keep track of previous action\n    \n    def act(self):\n        \"\"\"Implement Round Robin here\"\"\"\n        \n        current_action = None\n\n        return current_action\n        \n    def feedback(self, action, reward):\n        self.total_rewards[action] += reward\n        self.total_counts[action] += 1    ",
      "execution_count": 4,
      "outputs": []
    },
    {
      "metadata": {},
      "cell_type": "markdown",
      "source": "Now let's run the same simulation and keep the parameters as the previous exercise."
    },
    {
      "metadata": {
        "trusted": true
      },
      "cell_type": "code",
      "source": "evaluation_seed = 8026\nnum_actions = 5\ntrials = 10000\ndistribution = \"bernoulli\"",
      "execution_count": 5,
      "outputs": []
    },
    {
      "metadata": {
        "scrolled": false,
        "trusted": true
      },
      "cell_type": "code",
      "source": "env = BanditEnv(num_actions, distribution, evaluation_seed)\nagent = RoundRobin(num_actions)\nexperiment = Experiment(env, agent)\nexperiment.run_bandit(trials)",
      "execution_count": 6,
      "outputs": [
        {
          "output_type": "stream",
          "text": "Distribution: bernoulli [0.4561754  0.22507755 0.82070893 0.05221751 0.03428511]\nOptimal arm: 2\n",
          "name": "stdout"
        },
        {
          "output_type": "display_data",
          "data": {
            "text/plain": "<matplotlib.figure.Figure at 0x7fd1b32bae10>"
          },
          "metadata": {}
        },
        {
          "output_type": "display_data",
          "data": {
            "image/png": "[encoded data removed]",
            "text/plain": "<matplotlib.figure.Figure at 0x7fd1b2f87828>"
          },
          "metadata": {}
        },
        {
          "output_type": "stream",
          "text": "Algorithm chose an invalid action; reset reward to -inf\n",
          "name": "stdout"
        },
        {
          "output_type": "error",
          "ename": "ValueError",
          "evalue": "setting an array element with a sequence.",
          "traceback": [
            "\u001b[0;31m---------------------------------------------------------------------------\u001b[0m",
            "\u001b[0;31mValueError\u001b[0m                                Traceback (most recent call last)",
            "\u001b[0;32m<ipython-input-6-e30039c9bc0d>\u001b[0m in \u001b[0;36m<module>\u001b[0;34m()\u001b[0m\n\u001b[1;32m      2\u001b[0m \u001b[0magent\u001b[0m \u001b[0;34m=\u001b[0m \u001b[0mRoundRobin\u001b[0m\u001b[0;34m(\u001b[0m\u001b[0mnum_actions\u001b[0m\u001b[0;34m)\u001b[0m\u001b[0;34m\u001b[0m\u001b[0m\n\u001b[1;32m      3\u001b[0m \u001b[0mexperiment\u001b[0m \u001b[0;34m=\u001b[0m \u001b[0mExperiment\u001b[0m\u001b[0;34m(\u001b[0m\u001b[0menv\u001b[0m\u001b[0;34m,\u001b[0m \u001b[0magent\u001b[0m\u001b[0;34m)\u001b[0m\u001b[0;34m\u001b[0m\u001b[0m\n\u001b[0;32m----> 4\u001b[0;31m \u001b[0mexperiment\u001b[0m\u001b[0;34m.\u001b[0m\u001b[0mrun_bandit\u001b[0m\u001b[0;34m(\u001b[0m\u001b[0mtrials\u001b[0m\u001b[0;34m)\u001b[0m\u001b[0;34m\u001b[0m\u001b[0m\n\u001b[0m",
            "\u001b[0;32m~/library/LabFiles/lib/simulation.py\u001b[0m in \u001b[0;36mrun_bandit\u001b[0;34m(self, max_number_of_trials, display_frequency)\u001b[0m\n\u001b[1;32m    101\u001b[0m \u001b[0;34m\u001b[0m\u001b[0m\n\u001b[1;32m    102\u001b[0m             \u001b[0mstats\u001b[0m\u001b[0;34m.\u001b[0m\u001b[0mcumulative_rewards\u001b[0m\u001b[0;34m[\u001b[0m\u001b[0mtrial\u001b[0m\u001b[0;34m]\u001b[0m \u001b[0;34m=\u001b[0m \u001b[0mcumulative_reward\u001b[0m\u001b[0;34m\u001b[0m\u001b[0m\n\u001b[0;32m--> 103\u001b[0;31m             \u001b[0mstats\u001b[0m\u001b[0;34m.\u001b[0m\u001b[0mregrets\u001b[0m\u001b[0;34m[\u001b[0m\u001b[0mtrial\u001b[0m\u001b[0;34m]\u001b[0m \u001b[0;34m=\u001b[0m \u001b[0mcumulative_regret\u001b[0m\u001b[0;34m\u001b[0m\u001b[0m\n\u001b[0m\u001b[1;32m    104\u001b[0m \u001b[0;34m\u001b[0m\u001b[0m\n\u001b[1;32m    105\u001b[0m         \u001b[0mprint\u001b[0m\u001b[0;34m(\u001b[0m\u001b[0;34m\"--------------------------------------------------\"\u001b[0m\u001b[0;34m,\u001b[0m \u001b[0mflush\u001b[0m \u001b[0;34m=\u001b[0m \u001b[0;32mTrue\u001b[0m\u001b[0;34m)\u001b[0m\u001b[0;34m\u001b[0m\u001b[0m\n",
            "\u001b[0;31mValueError\u001b[0m: setting an array element with a sequence."
          ]
        }
      ]
    },
    {
      "metadata": {
        "collapsed": true
      },
      "cell_type": "markdown",
      "source": "Observe the above results. Did the round-robin beat the greedy algorithm in this case?\n\n\nOnce you have answered the questions in this lab, play around with different evaluation_seed and/or num_actions. Essentially creating a different version of the BanditEnv environment. Run the simulation and observe the results.\n"
    },
    {
      "metadata": {
        "trusted": true
      },
      "cell_type": "code",
      "source": "",
      "execution_count": null,
      "outputs": []
    }
  ],
  "metadata": {
    "kernelspec": {
      "name": "python3",
      "display_name": "Python 3",
      "language": "python"
    },
    "language_info": {
      "mimetype": "text/x-python",
      "nbconvert_exporter": "python",
      "name": "python",
      "pygments_lexer": "ipython3",
      "version": "3.5.4",
      "file_extension": ".py",
      "codemirror_mode": {
        "version": 3,
        "name": "ipython"
      }
    }
  },
  "nbformat": 4,
  "nbformat_minor": 2
}