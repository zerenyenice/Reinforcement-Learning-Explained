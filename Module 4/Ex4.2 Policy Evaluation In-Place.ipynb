{
  "cells": [
    {
      "metadata": {},
      "cell_type": "markdown",
      "source": "# DAT257x: Reinforcement Learning Explained\n\n## Lab 4: Dynamic Programming\n\n### Exercise 4.2 Policy Evaluation using in-place method"
    },
    {
      "metadata": {},
      "cell_type": "markdown",
      "source": "Policy Evaluation calculates the value function for a policy, given the policy and the full definition of the associated Markov Decision Process.  The full definition of an MDP is the set of states, the set of available actions for each state, the set of rewards, the discount factor, and the state/reward transition function."
    },
    {
      "metadata": {
        "trusted": true
      },
      "cell_type": "code",
      "source": "import test_dp               # required for testing and grading your code\nimport gridworld_mdp as gw   # defines the MDP for a 4x4 gridworld",
      "execution_count": 2,
      "outputs": []
    },
    {
      "metadata": {},
      "cell_type": "markdown",
      "source": "**Implement the algorithm for Iterative Policy Evaluation using the in-place approach**. In the in-place approach, one array holds the values being estimated for each state and the same array is used for estimates of states needed by the algorithm.\n\nA empty function **policy_eval_in_place** is provided below; implement the body of the function to correctly calculate the value of the policy using the 2 array approach. The function defines 5 parameters - a definition of each parameter is given in the comment block for the function. For sample parameter values, see the calling code in the cell following the function."
    },
    {
      "metadata": {
        "trusted": true
      },
      "cell_type": "code",
      "source": "def policy_eval_in_place(state_count, gamma, theta, get_policy, get_transitions):\n    \"\"\"\n    This function uses the two-array approach to evaluate the specified policy for the specified MDP:\n    \n    'state_count' is the total number of states in the MDP. States are represented as 0-relative numbers.\n    \n    'gamma' is the MDP discount factor for rewards.\n    \n    'theta' is the small number threshold to signal convergence of the value function (see Iterative Policy Evaluation algorithm).\n    \n    'get_policy' is the stochastic policy function - it takes a state parameter and returns list of tuples, \n        where each tuple is of the form: (action, probability).  It represents the policy being evaluated.\n        \n    'get_transitions' is the state/reward transiton function.  It accepts two parameters, state and action, and returns\n        a list of tuples, where each tuple is of the form: (next_state, reward, probabiliity).  \n         \n    \"\"\"\n    V = state_count*[0]\n    check = True\n    while check:\n        V_prev = V.copy()\n        d = 0\n        for r in range(state_count):\n            listed = get_policy(r)\n            v = V[r]\n            sum_i = 0\n            for l in listed:\n                action,p = l\n                transitions = gw.get_transitions(state=r, action=action)\n                next_state, reward, probability = transitions[0]\n                sum_i = sum_i + p * (probability *(reward + gamma * V_prev[next_state]))\n                #print(sum_i)\n            \n            V[r] = sum_i \n            d = max(d,abs(v - V[r]))\n        \n        if d < theta:\n            check = False\n    return V",
      "execution_count": 3,
      "outputs": []
    },
    {
      "metadata": {},
      "cell_type": "markdown",
      "source": "First, test our function using the MDP defined by gw.* functions."
    },
    {
      "metadata": {
        "trusted": true
      },
      "cell_type": "code",
      "source": "def get_equal_policy(state):\n    # build a simple policy where all 4 actions have the same probability, ignoring the specified state\n    policy = ( (\"up\", .25), (\"right\", .25), (\"down\", .25), (\"left\", .25))\n    return policy\n\nn_states = gw.get_state_count()\n\n# test our function\nvalues = policy_eval_in_place(state_count=n_states, gamma=.9, theta=.001, get_policy=get_equal_policy, \\\n    get_transitions=gw.get_transitions)\n\nprint(\"Values=\", values)",
      "execution_count": 4,
      "outputs": [
        {
          "output_type": "stream",
          "text": "Values= [0.0, -5.274709263277986, -7.123800104889248, -7.64536148969558, -5.274709263277987, -6.602238720082915, -7.17604178238719, -7.1238001048892485, -7.1238001048892485, -7.176041782387191, -6.602238720082915, -5.274709263277986, -7.645361489695581, -7.1238001048892485, -5.274709263277986]\n",
          "name": "stdout"
        }
      ]
    },
    {
      "metadata": {},
      "cell_type": "markdown",
      "source": "**Expected output from running above cell:**\n\n`\nValues= [0.0, -5.275906485600302, -7.125803667372325, -7.647729922717661, -5.275906485600302, -6.604213913250977, -7.1785079112764745, -7.126384243656092, -7.125803667372325, -7.178507911276475, -6.604678371775787, -5.276663994322859, -7.647729922717662, -7.1263842436560925, -5.27666399432286]\n`"
    },
    {
      "metadata": {},
      "cell_type": "markdown",
      "source": "Now, test our function using the test_dp helper.  The helper also uses the gw MDP, but with a different gamma value.\nIf our function passes all tests, a passcode will be printed."
    },
    {
      "metadata": {
        "trusted": true
      },
      "cell_type": "code",
      "source": "# test our function using the test_db helper\ntest_dp.policy_eval_in_place_test(policy_eval_in_place)   ",
      "execution_count": 5,
      "outputs": [
        {
          "output_type": "stream",
          "text": "\nTesting: Policy Evaluation (in-place)\npassed test: return value is list\npassed test: length of list = 15\npassed test: values of list elements\nPASSED: Policy Evaluation (in-place) passcode = 9986-145\n",
          "name": "stdout"
        }
      ]
    },
    {
      "metadata": {
        "trusted": true
      },
      "cell_type": "code",
      "source": "",
      "execution_count": null,
      "outputs": []
    }
  ],
  "metadata": {
    "kernelspec": {
      "name": "python3",
      "display_name": "Python 3",
      "language": "python"
    },
    "language_info": {
      "mimetype": "text/x-python",
      "nbconvert_exporter": "python",
      "name": "python",
      "file_extension": ".py",
      "version": "3.5.4",
      "pygments_lexer": "ipython3",
      "codemirror_mode": {
        "version": 3,
        "name": "ipython"
      }
    }
  },
  "nbformat": 4,
  "nbformat_minor": 2
}